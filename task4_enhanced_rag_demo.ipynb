{
 "cells": [
  {
   "cell_type": "markdown",
   "metadata": {},
   "source": [
    "# Task 4: 增强版RAG管道演示\n",
    "\n",
    "本Notebook演示了增强版RAG管道的完整使用流程，包括技术优化和性能提升。\n",
    "\n",
    "## 主要优化特性\n",
    "\n",
    "1. **查询扩展**: 自动生成相关查询词，提高召回率\n",
    "2. **混合重排序**: 结合TF-IDF和向量相似度进行文档重排序\n",
    "3. **自适应提示词**: 根据问题类型选择最优提示词模板\n",
    "4. **动态上下文构建**: 智能选择最相关的文档片段\n",
    "5. **性能监控**: 实时跟踪各步骤的执行时间和效果"
   ]
  },
  {
   "cell_type": "markdown",
   "metadata": {},
   "source": [
    "## 1. 环境准备"
   ]
  },
  {
   "cell_type": "code",
   "execution_count": null,
   "metadata": {},
   "outputs": [],
   "source": [
    "import os\n",
    "import sys\n",
    "from dotenv import load_dotenv\n",
    "\n",
    "# 加载环境变量\n",
    "load_dotenv()\n",
    "\n",
    "# 检查必要的环境变量\n",
    "required_vars = ['LOCAL_API_KEY', 'LOCAL_BASE_URL', 'LOCAL_TEXT_MODEL', 'LOCAL_EMBEDDING_MODEL']\n",
    "missing_vars = [var for var in required_vars if not os.getenv(var)]\n",
    "\n",
    "if missing_vars:\n",
    "    print(f\"警告: 缺少环境变量: {missing_vars}\")\n",
    "    print(\"请确保.env文件包含所有必要的配置\")\n",
    "else:\n",
    "    print(\"✓ 环境变量配置完成\")"
   ]
  },
  {
   "cell_type": "markdown",
   "metadata": {},
   "source": [
    "## 2. 导入增强版RAG管道"
   ]
  },
  {
   "cell_type": "code",
   "execution_count": null,
   "metadata": {},
   "outputs": [],
   "source": [
    "from enhanced_rag_pipeline import EnhancedRAGPipeline\n",
    "\n",
    "# 初始化增强版RAG管道\n",
    "print(\"正在初始化增强版RAG管道...\")\n",
    "\n",
    "enhanced_rag = EnhancedRAGPipeline(\n",
    "    index_path=\"output/knowledge_base.index\",\n",
    "    metadata_path=\"output/chunk_metadata.pkl\",\n",
    "    k=10,  # 初始检索更多文档\n",
    "    final_k=5,  # 最终返回5个最相关文档\n",
    "    enable_reranking=True,  # 启用重排序\n",
    "    enable_query_expansion=True  # 启用查询扩展\n",
    ")\n",
    "\n",
    "print(\"✓ 增强版RAG管道初始化完成\")"
   ]
  },
  {
   "cell_type": "markdown",
   "metadata": {},
   "source": [
    "## 3. 测试不同类型的问题\n",
    "\n",
    "我们将测试四种不同类型的问题，展示自适应提示词的效果："
   ]
  },
  {
   "cell_type": "code",
   "execution_count": null,
   "metadata": {},
   "outputs": [],
   "source": [
    "# 定义测试问题集\n",
    "test_questions = {\n",
    "    '事实性问题': [\n",
    "        \"公司在2023年的营业收入是多少？\",\n",
    "        \"公司的主要产品有哪些？\",\n",
    "        \"公司成立于何时？\"\n",
    "    ],\n",
    "    '分析性问题': [\n",
    "        \"公司业绩增长的主要原因是什么？\",\n",
    "        \"如何评价公司的盈利能力？\",\n",
    "        \"公司面临的主要风险因素有哪些？\"\n",
    "    ],\n",
    "    '比较性问题': [\n",
    "        \"与同行业竞争对手相比，公司有哪些优势？\",\n",
    "        \"公司各业务板块的盈利能力如何比较？\",\n",
    "        \"公司产品与竞品的差异在哪里？\"\n",
    "    ],\n",
    "    '预测性问题': [\n",
    "        \"公司未来的发展前景如何？\",\n",
    "        \"行业发展趋势对公司有何影响？\",\n",
    "        \"公司的战略规划是什么？\"\n",
    "    ]\n",
    "}\n",
    "\n",
    "print(\"测试问题集准备完成\")"
   ]
  },
  {
   "cell_type": "markdown",
   "metadata": {},
   "source": [
    "## 4. 执行测试并分析结果"
   ]
  },
  {
   "cell_type": "code",
   "execution_count": null,
   "metadata": {},
   "outputs": [],
   "source": [
    "import time\n",
    "\n",
    "def test_question_category(category, questions):\n",
    "    \"\"\"测试特定类别的问题\"\"\"\n",
    "    print(f\"\\n{'='*80}\")\n",
    "    print(f\"测试类别: {category}\")\n",
    "    print(f\"{'='*80}\")\n",
    "    \n",
    "    results = []\n",
    "    \n",
    "    for i, question in enumerate(questions, 1):\n",
    "        print(f\"\\n[{i}/{len(questions)}] 问题: {question}\")\n",
    "        print(\"-\" * 60)\n",
    "        \n",
    "        try:\n",
    "            # 执行查询\n",
    "            start_time = time.time()\n",
    "            result = enhanced_rag.answer_question(question)\n",
    "            end_time = time.time()\n",
    "            \n",
    "            # 显示结果\n",
    "            print(f\"答案: {result['answer']}\")\n",
    "            print(f\"\\n主要来源: {result['filename']} (第{result['page']}页)\")\n",
    "            \n",
    "            # 显示性能指标\n",
    "            metrics = result.get('performance_metrics', {})\n",
    "            print(f\"\\n性能指标:\")\n",
    "            print(f\"  - 总耗时: {metrics.get('total_time', end_time - start_time):.2f}s\")\n",
    "            print(f\"  - 检索耗时: {metrics.get('retrieval_time', 0):.2f}s\")\n",
    "            print(f\"  - 生成耗时: {metrics.get('generation_time', 0):.2f}s\")\n",
    "            \n",
    "            # 显示检索到的文档数量\n",
    "            sources = result.get('sources', [])\n",
    "            print(f\"  - 检索文档数: {len(sources)}\")\n",
    "            \n",
    "            results.append({\n",
    "                'question': question,\n",
    "                'success': True,\n",
    "                'time': metrics.get('total_time', end_time - start_time),\n",
    "                'sources_count': len(sources)\n",
    "            })\n",
    "            \n",
    "        except Exception as e:\n",
    "            print(f\"错误: {e}\")\n",
    "            results.append({\n",
    "                'question': question,\n",
    "                'success': False,\n",
    "                'error': str(e)\n",
    "            })\n",
    "    \n",
    "    return results"
   ]
  },
  {
   "cell_type": "code",
   "execution_count": null,
   "metadata": {},
   "outputs": [],
   "source": [
    "# 执行所有测试\n",
    "all_results = {}\n",
    "\n",
    "for category, questions in test_questions.items():\n",
    "    results = test_question_category(category, questions)\n",
    "    all_results[category] = results"
   ]
  },
  {
   "cell_type": "markdown",
   "metadata": {},
   "source": [
    "## 5. 性能分析和总结"
   ]
  },
  {
   "cell_type": "code",
   "execution_count": null,
   "metadata": {},
   "outputs": [],
   "source": [
    "# 分析测试结果\n",
    "def analyze_results(all_results):\n",
    "    \"\"\"分析测试结果\"\"\"\n",
    "    print(f\"\\n{'='*80}\")\n",
    "    print(\"测试结果分析\")\n",
    "    print(f\"{'='*80}\")\n",
    "    \n",
    "    total_questions = 0\n",
    "    total_success = 0\n",
    "    total_time = 0\n",
    "    \n",
    "    for category, results in all_results.items():\n",
    "        success_count = sum(1 for r in results if r['success'])\n",
    "        avg_time = sum(r.get('time', 0) for r in results if r['success']) / max(success_count, 1)\n",
    "        \n",
    "        print(f\"\\n{category}:\")\n",
    "        print(f\"  - 成功率: {success_count}/{len(results)} ({success_count/len(results)*100:.1f}%)\")\n",
    "        print(f\"  - 平均响应时间: {avg_time:.2f}s\")\n",
    "        \n",
    "        total_questions += len(results)\n",
    "        total_success += success_count\n",
    "        total_time += sum(r.get('time', 0) for r in results if r['success'])\n",
    "    \n",
    "    print(f\"\\n总体统计:\")\n",
    "    print(f\"  - 总成功率: {total_success}/{total_questions} ({total_success/total_questions*100:.1f}%)\")\n",
    "    print(f\"  - 平均响应时间: {total_time/max(total_success, 1):.2f}s\")\n",
    "\n",
    "# 执行分析\n",
    "analyze_results(all_results)"
   ]
  },
  {
   "cell_type": "code",
   "execution_count": null,
   "metadata": {},
   "outputs": [],
   "source": [
    "# 获取增强版RAG管道的性能报告\n",
    "print(f\"\\n{'='*80}\")\n",
    "print(\"增强版RAG管道性能报告\")\n",
    "print(f\"{'='*80}\")\n",
    "\n",
    "try:\n",
    "    performance_report = enhanced_rag.get_performance_report()\n",
    "    \n",
    "    for metric, value in performance_report.items():\n",
    "        if isinstance(value, float):\n",
    "            print(f\"{metric}: {value:.3f}\")\n",
    "        else:\n",
    "            print(f\"{metric}: {value}\")\n",
    "            \n",
    "except Exception as e:\n",
    "    print(f\"获取性能报告失败: {e}\")"
   ]
  },
  {
   "cell_type": "markdown",
   "metadata": {},
   "source": [
    "## 6. 优化效果对比\n",
    "\n",
    "### 增强版RAG vs 基础版RAG\n",
    "\n",
    "| 特性 | 基础版RAG | 增强版RAG | 改进效果 |\n",
    "| --- | --- | --- | --- |\n",
    "| 检索策略 | 单一向量检索 | 混合检索+重排序 | 提高相关性 |\n",
    "| 查询处理 | 原始查询 | 查询扩展 | 提高召回率 |\n",
    "| 提示词 | 固定模板 | 自适应提示词 | 提高回答质量 |\n",
    "| 上下文构建 | 固定长度 | 动态选择 | 优化信息密度 |\n",
    "| 性能监控 | 无 | 全面监控 | 便于优化调试 |\n",
    "\n",
    "### 技术优化要点\n",
    "\n",
    "1. **混合检索**: 结合向量相似度和TF-IDF，平衡语义理解和关键词匹配\n",
    "2. **查询扩展**: 自动生成相关查询词，扩大检索范围\n",
    "3. **智能重排序**: 综合多种相似度指标，提升最终结果质量\n",
    "4. **自适应提示词**: 根据问题类型选择最优提示词策略\n",
    "5. **动态上下文**: 智能选择最相关文档片段，避免信息冗余"
   ]
  },
  {
   "cell_type": "markdown",
   "metadata": {},
   "source": [
    "## 7. 使用建议\n",
    "\n",
    "### 参数调优建议\n",
    "\n",
    "```python\n",
    "# 针对不同场景的参数配置\n",
    "\n",
    "# 高精度场景（如法律、医疗）\n",
    "enhanced_rag_precision = EnhancedRAGPipeline(\n",
    "    k=15,  # 增加初始检索数量\n",
    "    final_k=3,  # 减少最终文档数，提高精度\n",
    "    enable_reranking=True,\n",
    "    enable_query_expansion=False  # 关闭查询扩展，避免噪声\n",
    ")\n",
    "\n",
    "# 高召回场景（如客服、FAQ）\n",
    "enhanced_rag_recall = EnhancedRAGPipeline(\n",
    "    k=20,  # 大幅增加检索数量\n",
    "    final_k=8,  # 增加最终文档数\n",
    "    enable_reranking=True,\n",
    "    enable_query_expansion=True  # 启用查询扩展\n",
    ")\n",
    "\n",
    "# 平衡场景（通用应用）\n",
    "enhanced_rag_balanced = EnhancedRAGPipeline(\n",
    "    k=10,\n",
    "    final_k=5,\n",
    "    enable_reranking=True,\n",
    "    enable_query_expansion=True\n",
    ")\n",
    "```\n",
    "\n",
    "### 性能优化建议\n",
    "\n",
    "1. **批量处理**: 对于大量查询，考虑批量向量化以提高效率\n",
    "2. **缓存机制**: 对常见查询结果进行缓存\n",
    "3. **异步处理**: 对于实时性要求不高的场景，使用异步处理\n",
    "4. **模型选择**: 根据精度和速度需求选择合适的嵌入模型\n",
    "5. **硬件优化**: 使用GPU加速向量计算和模型推理"
   ]
  }
 ],
 "metadata": {
  "kernelspec": {
   "display_name": "Python 3",
   "language": "python",
   "name": "python3"
  },
  "language_info": {
   "codemirror_mode": {
    "name": "ipython",
    "version": 3
   },
   "file_extension": ".py",
   "mimetype": "text/x-python",
   "name": "python",
   "nbconvert_exporter": "python",
   "pygments_lexer": "ipython3",
   "version": "3.8.0"
  }
 },
 "nbformat": 4,
 "nbformat_minor": 4
}