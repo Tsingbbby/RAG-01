{
 "cells": [
  {
   "cell_type": "markdown",
   "metadata": {},
   "source": [
    "# 环境配置与依赖安装\n",
    "\n",
    "本notebook用于配置多模态RAG项目的Python环境并安装所需依赖库。"
   ]
  },
  {
   "cell_type": "markdown",
   "metadata": {},
   "source": [
    "## 1. 检查Python环境"
   ]
  },
  {
   "cell_type": "code",
   "execution_count": null,
   "metadata": {},
   "outputs": [],
   "source": [
    "import sys\n",
    "import os\n",
    "\n",
    "print(f\"Python版本: {sys.version}\")\n",
    "print(f\"当前工作目录: {os.getcwd()}\")\n",
    "print(f\"Python可执行文件路径: {sys.executable}\")"
   ]
  },
  {
   "cell_type": "markdown",
   "metadata": {},
   "source": [
    "## 2. 安装核心依赖库\n",
    "\n",
    "安装项目所需的核心依赖库，包括mineru、transformers、faiss-gpu等。"
   ]
  },
  {
   "cell_type": "code",
   "execution_count": null,
   "metadata": {},
   "outputs": [],
   "source": [
    "# 安装核心依赖\n",
    "!pip install --upgrade pip\n",
    "!pip install mineru\n",
    "!pip install transformers\n",
    "!pip install faiss-gpu\n",
    "!pip install tqdm\n",
    "!pip install numpy\n",
    "!pip install pandas\n",
    "!pip install PyPDF2\n",
    "!pip install jupyter"
   ]
  },
  {
   "cell_type": "markdown",
   "metadata": {},
   "source": [
    "## 3. 验证依赖安装"
   ]
  },
  {
   "cell_type": "code",
   "execution_count": null,
   "metadata": {},
   "outputs": [],
   "source": [
    "# 验证关键库是否正确安装\n",
    "try:\n",
    "    import mineru\n",
    "    print(\"✓ mineru 安装成功\")\n",
    "except ImportError as e:\n",
    "    print(f\"✗ mineru 安装失败: {e}\")\n",
    "\n",
    "try:\n",
    "    import transformers\n",
    "    print(f\"✓ transformers 安装成功，版本: {transformers.__version__}\")\n",
    "except ImportError as e:\n",
    "    print(f\"✗ transformers 安装失败: {e}\")\n",
    "\n",
    "try:\n",
    "    import faiss\n",
    "    print(\"✓ faiss-gpu 安装成功\")\n",
    "except ImportError as e:\n",
    "    print(f\"✗ faiss-gpu 安装失败: {e}\")\n",
    "\n",
    "try:\n",
    "    import tqdm\n",
    "    print(f\"✓ tqdm 安装成功，版本: {tqdm.__version__}\")\n",
    "except ImportError as e:\n",
    "    print(f\"✗ tqdm 安装失败: {e}\")\n",
    "\n",
    "try:\n",
    "    import numpy as np\n",
    "    print(f\"✓ numpy 安装成功，版本: {np.__version__}\")\n",
     "except ImportError as e:\n",
     "    print(f\"✗ numpy 安装失败: {e}\")\n",
    "\n",
    "try:\n",
    "    import PyPDF2\n",
    "    print(f\"✓ PyPDF2 安装成功，版本: {PyPDF2.__version__}\")\n",
    "except ImportError as e:\n",
    "    print(f\"✗ PyPDF2 安装失败: {e}\")"
   ]
  },
  {
   "cell_type": "markdown",
   "metadata": {},
   "source": [
    "## 4. 生成requirements.txt文件"
   ]
  },
  {
   "cell_type": "code",
   "execution_count": null,
   "metadata": {},
   "outputs": [],
   "source": [
    "# 生成requirements.txt文件\n",
    "!pip freeze > requirements.txt\n",
    "\n",
    "# 显示生成的requirements.txt内容\n",
    "with open('requirements.txt', 'r') as f:\n",
    "    content = f.read()\n",
    "    print(\"requirements.txt 文件内容:\")\n",
    "    print(\"=\" * 50)\n",
    "    print(content[:1000])  # 显示前1000个字符\n",
    "    if len(content) > 1000:\n",
    "        print(\"...\\n(文件内容较长，已截断显示)\")"
   ]
  },
  {
   "cell_type": "markdown",
   "metadata": {},
   "source": [
    "## 5. 检查项目目录结构"
   ]
  },
  {
   "cell_type": "code",
   "execution_count": null,
   "metadata": {},
   "outputs": [],
   "source": [
    "import os\n",
    "\n",
    "def show_directory_structure(path, prefix=\"\", max_depth=3, current_depth=0):\n",
    "    if current_depth >= max_depth:\n",
    "        return\n",
    "    \n",
    "    items = sorted(os.listdir(path))\n",
    "    for i, item in enumerate(items):\n",
    "        if item.startswith('.') and item not in ['.gitignore']:\n",
    "            continue\n",
    "        \n",
    "        item_path = os.path.join(path, item)\n",
    "        is_last = i == len(items) - 1\n",
    "        \n",
    "        current_prefix = \"└── \" if is_last else \"├── \"\n",
    "        print(f\"{prefix}{current_prefix}{item}\")\n",
    "        \n",
    "        if os.path.isdir(item_path):\n",
    "            extension = \"    \" if is_last else \"│   \"\n",
    "            show_directory_structure(item_path, prefix + extension, max_depth, current_depth + 1)\n",
    "\n",
    "print(\"项目目录结构:\")\n",
    "print(\"RAG-01/\")\n",
    "show_directory_structure('.', max_depth=2)"
   ]
  }
 ],
 "metadata": {
  "kernelspec": {
   "display_name": "Python 3",
   "language": "python",
   "name": "python3"
  },
  "language_info": {
   "codemirror_mode": {
    "name": "ipython",
    "version": 3
   },
   "file_extension": ".py",
   "mimetype": "text/x-python",
   "name": "python",
   "nbconvert_exporter": "python",
   "pygments_lexer": "ipython3",
   "version": "3.12.0"
  }
 },
 "nbformat": 4,
 "nbformat_minor": 4
}