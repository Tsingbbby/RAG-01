{
 "cells": [
  {
   "cell_type": "markdown",
   "metadata": {},
   "source": [
    "# Task 4: RAG检索与生成管道演示\n",
    "\n",
    "本Notebook演示如何使用RAG (Retrieval-Augmented Generation) 管道进行智能问答。\n",
    "\n",
    "## 功能概述\n",
    "\n",
    "- **检索增强生成**: 结合向量检索和大语言模型生成\n",
    "- **端到端问答**: 从用户问题到结构化答案的完整流程\n",
    "- **可溯源回答**: 每个答案都标注来源文档和页码\n",
    "- **忠实性保证**: 严格基于检索到的上下文生成答案"
   ]
  },
  {
   "cell_type": "markdown",
   "metadata": {},
   "source": [
    "## 1. 环境准备和依赖导入"
   ]
  },
  {
   "cell_type": "code",
   "execution_count": null,
   "metadata": {},
   "outputs": [],
   "source": [
    "import os\n",
    "import sys\n",
    "import json\n",
    "import time\n",
    "from typing import Dict, Any, List\n",
    "\n",
    "# 添加当前目录到Python路径\n",
    "sys.path.append(os.path.dirname(os.path.abspath('.')))\n",
    "\n",
    "# 导入自定义模块\n",
    "from rag_pipeline import RAGPipeline\n",
    "from llm_api_client import GenerationAPIClient\n",
    "from embedding_module import EmbeddingAPIClient\n",
    "\n",
    "print('✓ 依赖导入成功')"
   ]
  },
  {
   "cell_type": "markdown",
   "metadata": {},
   "source": [
    "## 2. 检查必要文件"
   ]
  },
  {
   "cell_type": "code",
   "execution_count": null,
   "metadata": {},
   "outputs": [],
   "source": [
    "# 检查必要文件是否存在\n",
    "required_files = [\n",
    "    'output/knowledge_base.index',\n",
    "    'output/chunk_metadata.pkl',\n",
    "    '.env'\n",
    "]\n",
    "\n",
    "print('检查必要文件:')\n",
    "for file_path in required_files:\n",
    "    if os.path.exists(file_path):\n",
    "        print(f'✓ {file_path}')\n",
    "    else:\n",
    "        print(f'✗ {file_path} (缺失)')\n",
    "\n",
    "missing_files = [f for f in required_files if not os.path.exists(f)]\n",
    "if missing_files:\n",
    "    print(f'\\n⚠️  缺少文件: {missing_files}')\n",
    "    print('请确保已完成Task 2和Task 3，并配置了.env文件')\n",
    "else:\n",
    "    print('\\n✓ 所有必要文件都存在')"
   ]
  },
  {
   "cell_type": "markdown",
   "metadata": {},
   "source": [
    "## 3. 初始化RAG管道"
   ]
  },
  {
   "cell_type": "code",
   "execution_count": null,
   "metadata": {},
   "outputs": [],
   "source": [
    "# 初始化RAG管道\n",
    "print('正在初始化RAG管道...')\n",
    "\n",
    "try:\n",
    "    rag = RAGPipeline(k=5)  # 检索Top-5相关文档\n",
    "    print('\\n✓ RAG管道初始化成功!')\n",
    "except Exception as e:\n",
    "    print(f'✗ RAG管道初始化失败: {e}')\n",
    "    raise"
   ]
  },
  {
   "cell_type": "markdown",
   "metadata": {},
   "source": [
    "## 4. 查看管道配置信息"
   ]
  },
  {
   "cell_type": "code",
   "execution_count": null,
   "metadata": {},
   "outputs": [],
   "source": [
    "# 显示管道配置信息\n",
    "info = rag.get_pipeline_info()\n",
    "\n",
    "print('RAG管道配置信息:')\n",
    "print('=' * 40)\n",
    "for key, value in info.items():\n",
    "    print(f'{key}: {value}')\n",
    "print('=' * 40)"
   ]
  },
  {
   "cell_type": "markdown",
   "metadata": {},
   "source": [
    "## 5. 单个问题演示"
   ]
  },
  {
   "cell_type": "code",
   "execution_count": null,
   "metadata": {},
   "outputs": [],
   "source": [
    "# 演示单个问题的完整问答流程\n",
    "demo_question = '公司在2023年的重大产品临床进展是什么？'\n",
    "\n",
    "print(f'演示问题: {demo_question}')\n",
    "print('=' * 60)\n",
    "\n",
    "start_time = time.time()\n",
    "result = rag.answer_question(demo_question)\n",
    "end_time = time.time()\n",
    "\n",
    "print(f'\\n问题: {demo_question}')\n",
    "print(f'答案: {result[\"answer\"]}')\n",
    "print(f'来源: {result[\"filename\"]} (第{result[\"page\"]}页)')\n",
    "print(f'耗时: {end_time - start_time:.2f}秒')"
   ]
  },
  {
   "cell_type": "markdown",
   "metadata": {},
   "source": [
    "## 6. 批量问题测试"
   ]
  },
  {
   "cell_type": "code",
   "execution_count": null,
   "metadata": {},
   "outputs": [],
   "source": [
    "# 定义测试问题集\n",
    "test_questions = [\n",
    "    '公司的主要业务领域有哪些？',\n",
    "    '公司有哪些重要的研发项目？',\n",
    "    '公司的财务状况如何？',\n",
    "    '公司的核心竞争优势是什么？',\n",
    "    '公司在技术创新方面有什么突破？'\n",
    "]\n",
    "\n",
    "print(f'批量测试 {len(test_questions)} 个问题:')\n",
    "print('=' * 60)\n",
    "\n",
    "results = []\n",
    "total_time = 0\n",
    "\n",
    "for i, question in enumerate(test_questions, 1):\n",
    "    print(f'\\n问题 {i}: {question}')\n",
    "    print('-' * 40)\n",
    "    \n",
    "    start_time = time.time()\n",
    "    try:\n",
    "        result = rag.answer_question(question)\n",
    "        end_time = time.time()\n",
    "        response_time = end_time - start_time\n",
    "        total_time += response_time\n",
    "        \n",
    "        print(f'答案: {result[\"answer\"]}')\n",
    "        print(f'来源: {result[\"filename\"]} (第{result[\"page\"]}页)')\n",
    "        print(f'耗时: {response_time:.2f}秒')\n",
    "        \n",
    "        results.append({\n",
    "            'question': question,\n",
    "            'answer': result['answer'],\n",
    "            'filename': result['filename'],\n",
    "            'page': result['page'],\n",
    "            'response_time': response_time,\n",
    "            'success': True\n",
    "        })\n",
    "        \n",
    "    except Exception as e:\n",
    "        end_time = time.time()\n",
    "        response_time = end_time - start_time\n",
    "        total_time += response_time\n",
    "        \n",
    "        print(f'✗ 处理失败: {e}')\n",
    "        print(f'耗时: {response_time:.2f}秒')\n",
    "        \n",
    "        results.append({\n",
    "            'question': question,\n",
    "            'error': str(e),\n",
    "            'response_time': response_time,\n",
    "            'success': False\n",
    "        })\n",
    "\n",
    "print(f'\\n批量测试完成，总耗时: {total_time:.2f}秒')"
   ]
  },
  {
   "cell_type": "markdown",
   "metadata": {},
   "source": [
    "## 7. 结果分析和统计"
   ]
  },
  {
   "cell_type": "code",
   "execution_count": null,
   "metadata": {},
   "outputs": [],
   "source": [
    "# 分析测试结果\n",
    "total_tests = len(results)\n",
    "successful_tests = sum(1 for r in results if r.get('success', False))\n",
    "failed_tests = total_tests - successful_tests\n",
    "\n",
    "avg_response_time = sum(r['response_time'] for r in results) / total_tests if total_tests > 0 else 0\n",
    "\n",
    "print('测试结果统计:')\n",
    "print('=' * 40)\n",
    "print(f'总测试数: {total_tests}')\n",
    "print(f'成功: {successful_tests} ({successful_tests/total_tests*100:.1f}%)')\n",
    "print(f'失败: {failed_tests} ({failed_tests/total_tests*100:.1f}%)')\n",
    "print(f'平均响应时间: {avg_response_time:.2f}秒')\n",
    "\n",
    "# 显示成功的问答对\n",
    "successful_results = [r for r in results if r.get('success', False)]\n",
    "if successful_results:\n",
    "    print(f'\\n成功的问答示例 (共{len(successful_results)}个):')\n",
    "    print('=' * 40)\n",
    "    for i, result in enumerate(successful_results[:3], 1):\n",
    "        print(f'\\n{i}. 问题: {result[\"question\"]}')\n",
    "        print(f'   答案: {result[\"answer\"][:100]}{\"...\" if len(result[\"answer\"]) > 100 else \"\"}')\n",
    "        print(f'   来源: {result[\"filename\"]} (第{result[\"page\"]}页)')\n",
    "\n",
    "# 显示失败的测试\n",
    "failed_results = [r for r in results if not r.get('success', False)]\n",
    "if failed_results:\n",
    "    print(f'\\n失败的测试 (共{len(failed_results)}个):')\n",
    "    print('=' * 40)\n",
    "    for i, result in enumerate(failed_results, 1):\n",
    "        print(f'{i}. {result[\"question\"]} - {result.get(\"error\", \"Unknown error\")}')\n",
    "\n",
    "print('=' * 40)"
   ]
  },
  {
   "cell_type": "markdown",
   "metadata": {},
   "source": [
    "## 8. 保存演示结果"
   ]
  },
  {
   "cell_type": "code",
   "execution_count": null,
   "metadata": {},
   "outputs": [],
   "source": [
    "# 保存演示结果到JSON文件\n",
    "demo_results = {\n",
    "    'pipeline_info': rag.get_pipeline_info(),\n",
    "    'test_results': results,\n",
    "    'statistics': {\n",
    "        'total_tests': total_tests,\n",
    "        'successful_tests': successful_tests,\n",
    "        'failed_tests': failed_tests,\n",
    "        'success_rate': successful_tests/total_tests*100 if total_tests > 0 else 0,\n",
    "        'average_response_time': avg_response_time\n",
    "    }\n",
    "}\n",
    "\n",
    "output_file = 'task4_rag_demo_results.json'\n",
    "\n",
    "try:\n",
    "    with open(output_file, 'w', encoding='utf-8') as f:\n",
    "        json.dump(demo_results, f, ensure_ascii=False, indent=2)\n",
    "    print(f'✓ 演示结果已保存到: {output_file}')\n",
    "except Exception as e:\n",
    "    print(f'✗ 保存演示结果失败: {e}')"
   ]
  },
  {
   "cell_type": "markdown",
   "metadata": {},
   "source": [
    "## 9. 总结\n",
    "\n",
    "### Task 4 完成情况\n",
    "\n",
    "✅ **核心功能实现**:\n",
    "- GenerationAPIClient: 文本生成API客户端\n",
    "- RAGPipeline: 完整的检索增强生成管道\n",
    "- 端到端问答流程: 查询向量化 → 检索 → 上下文构建 → 生成 → 格式化\n",
    "\n",
    "✅ **关键特性**:\n",
    "- 可配置的检索数量 (k参数)\n",
    "- 结构化的提示词工程\n",
    "- 忠实性保证 (严格基于上下文)\n",
    "- 可溯源的答案 (文件名 + 页码)\n",
    "- 完整的错误处理\n",
    "\n",
    "✅ **输出格式**:\n",
    "```json\n",
    "{\n",
    "  'answer': 'LLM生成的答案文本',\n",
    "  'filename': '答案来源的文件名',\n",
    "  'page': '答案来源的页码'\n",
    "}\n",
    "```\n",
    "\n",
    "### 使用方法\n",
    "\n",
    "```python\n",
    "# 初始化RAG管道\n",
    "rag = RAGPipeline()\n",
    "\n",
    "# 问答\n",
    "result = rag.answer_question('您的问题')\n",
    "print(result)\n",
    "```\n",
    "\n",
    "### 技术架构\n",
    "\n",
    "1. **EmbeddingAPIClient**: 查询向量化\n",
    "2. **FAISS索引**: 高效向量检索\n",
    "3. **GenerationAPIClient**: 文本生成\n",
    "4. **RAGPipeline**: 整合所有组件的核心管道\n",
    "\n",
    "Task 4 已成功实现完整的RAG推理逻辑! 🎉"
   ]
  }
 ],
 "metadata": {
  "kernelspec": {
   "display_name": "Python 3",
   "language": "python",
   "name": "python3"
  },
  "language_info": {
   "codemirror_mode": {
    "name": "ipython",
    "version": 3
   },
   "file_extension": ".py",
   "mimetype": "text/x-python",
   "name": "python",
   "nbconvert_exporter": "python",
   "pygments_lexer": "ipython3",
   "version": "3.8.0"
  }
 },
 "nbformat": 4,
 "nbformat_minor": 4
}